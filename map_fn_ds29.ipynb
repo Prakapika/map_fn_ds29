{
 "cells": [
  {
   "cell_type": "code",
   "execution_count": 4,
   "id": "ec1f8fa5",
   "metadata": {},
   "outputs": [
    {
     "name": "stdout",
     "output_type": "stream",
     "text": [
      "Triple of list numbers: [3, 6, 9, 12, 15, 18, 21]\n"
     ]
    }
   ],
   "source": [
    "#Write a Python program to triple all numbers of a given list of integers. Use Python map.\n",
    "sample_list = [1, 2, 3, 4, 5, 6, 7]\n",
    "triple = map(lambda a:a*3, sample_list)\n",
    "print(\"Triple of list numbers:\", list(triple))\n"
   ]
  },
  {
   "cell_type": "code",
   "execution_count": null,
   "id": "aaeceef7",
   "metadata": {},
   "outputs": [],
   "source": []
  }
 ],
 "metadata": {
  "kernelspec": {
   "display_name": "Python 3 (ipykernel)",
   "language": "python",
   "name": "python3"
  },
  "language_info": {
   "codemirror_mode": {
    "name": "ipython",
    "version": 3
   },
   "file_extension": ".py",
   "mimetype": "text/x-python",
   "name": "python",
   "nbconvert_exporter": "python",
   "pygments_lexer": "ipython3",
   "version": "3.10.6"
  }
 },
 "nbformat": 4,
 "nbformat_minor": 5
}
